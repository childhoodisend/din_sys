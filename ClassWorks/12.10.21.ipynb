{
 "cells": [
  {
   "cell_type": "code",
   "execution_count": 1,
   "id": "ed194f2a-cfe6-4be7-9fc4-c34cf5ad59c6",
   "metadata": {},
   "outputs": [],
   "source": [
    "import numpy as np\n",
    "from ipywidgets import FloatSlider, IntSlider, HBox, VBox\n",
    "import bqplot.pyplot as plt"
   ]
  },
  {
   "cell_type": "code",
   "execution_count": 2,
   "id": "20be0d33-0c9d-41c8-a20e-24d10f93bb31",
   "metadata": {},
   "outputs": [],
   "source": [
    "x, y = np.array([1]), np.array([1])\n",
    "\n",
    "title_tmpl = 'L1 = {}, L2 = {}, x = {}, y = {}, dots = {}'\n",
    "pdf_fig = plt.figure(title=title_tmpl.format(-0.1, -1.1, 1, 1, 20))\n",
    "pdf_line = plt.plot(x, y, stroke_width=3)"
   ]
  },
  {
   "cell_type": "code",
   "execution_count": 3,
   "id": "6b0b78bd-43b6-466e-a0f6-1474183eed66",
   "metadata": {},
   "outputs": [],
   "source": [
    "lambda1_slider = FloatSlider(description='L1', value=-0.1, min=-1, max=0, step=.1)\n",
    "lambda2_slider = FloatSlider(description='L2', value=-1.1, min=-2, max=-1, step=.1)\n",
    "x_slider = IntSlider(description='x', value=1, min=-10, max=10, step=1)\n",
    "y_slider = IntSlider(description='y', value=1, min=-10, max=10, step=1)\n",
    "dots_slider = IntSlider(description='dots', value=1, min=0, max=30, step=1)\n",
    " \n",
    "\n",
    "slider_layout = HBox([lambda1_slider, lambda2_slider, x_slider, y_slider, dots_slider])"
   ]
  },
  {
   "cell_type": "code",
   "execution_count": 4,
   "id": "4089ea70-847c-491f-967a-ce8a68ee51e9",
   "metadata": {},
   "outputs": [],
   "source": [
    "def update(change):\n",
    "    plt.clear()\n",
    "    new_l1 = lambda1_slider.value\n",
    "    new_l2 = lambda2_slider.value\n",
    "    \n",
    "    x, y = x_slider.value, y_slider.value\n",
    "    dots = dots_slider.value\n",
    "    \n",
    "    pdf_fig.title = title_tmpl.format(new_l1, new_l2, x, y, dots)\n",
    "    \n",
    "    \n",
    "    while dots:\n",
    "        plt.scatter([x * new_l1], [y * new_l2])\n",
    "        x *= new_l1\n",
    "        y *= new_l2\n",
    "        dots -= 1\n",
    "\n",
    "    "
   ]
  },
  {
   "cell_type": "code",
   "execution_count": 5,
   "id": "a2274add-e20e-4df7-baea-4d6b0f4151ed",
   "metadata": {},
   "outputs": [],
   "source": [
    "lambda1_slider.observe(update, 'value')\n",
    "lambda2_slider.observe(update, 'value')\n",
    "x_slider.observe(update, 'value')\n",
    "y_slider.observe(update, 'value')\n",
    "dots_slider.observe(update, 'value')"
   ]
  },
  {
   "cell_type": "code",
   "execution_count": 6,
   "id": "ca1607b3-9f1b-4258-a7ce-e657b3cfc1ac",
   "metadata": {},
   "outputs": [
    {
     "data": {
      "application/vnd.jupyter.widget-view+json": {
       "model_id": "6f653fb173164181acec025ef4417a80",
       "version_major": 2,
       "version_minor": 0
      },
      "text/plain": [
       "VBox(children=(Figure(axes=[Axis(scale=LinearScale(), side='bottom'), Axis(orientation='vertical', scale=Linea…"
      ]
     },
     "metadata": {},
     "output_type": "display_data"
    }
   ],
   "source": [
    "final_layout = VBox([pdf_fig, slider_layout])\n",
    "final_layout"
   ]
  }
 ],
 "metadata": {
  "kernelspec": {
   "display_name": "Python 3 (ipykernel)",
   "language": "python",
   "name": "python3"
  },
  "language_info": {
   "codemirror_mode": {
    "name": "ipython",
    "version": 3
   },
   "file_extension": ".py",
   "mimetype": "text/x-python",
   "name": "python",
   "nbconvert_exporter": "python",
   "pygments_lexer": "ipython3",
   "version": "3.9.7"
  }
 },
 "nbformat": 4,
 "nbformat_minor": 5
}
